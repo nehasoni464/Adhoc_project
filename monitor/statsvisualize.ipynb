{
 "cells": [
  {
   "cell_type": "code",
   "execution_count": 1,
   "metadata": {},
   "outputs": [],
   "source": [
    "import os\n",
    "import pandas as pd\n",
    "import time"
   ]
  },
  {
   "cell_type": "code",
   "execution_count": 29,
   "metadata": {},
   "outputs": [
    {
     "name": "stdout",
     "output_type": "stream",
     "text": [
      "None\n"
     ]
    }
   ],
   "source": [
    "os.system(\"./resourceconsump.sh 20\")\n",
    "print(time.sleep(20))\n"
   ]
  },
  {
   "cell_type": "code",
   "execution_count": 2,
   "metadata": {},
   "outputs": [],
   "source": [
    "columns=[\"time\",\"id\",\"cpu\",\"mem_usage\",\"mem_limit\"]"
   ]
  },
  {
   "cell_type": "code",
   "execution_count": 3,
   "metadata": {},
   "outputs": [
    {
     "data": {
      "text/html": [
       "<div>\n",
       "<style scoped>\n",
       "    .dataframe tbody tr th:only-of-type {\n",
       "        vertical-align: middle;\n",
       "    }\n",
       "\n",
       "    .dataframe tbody tr th {\n",
       "        vertical-align: top;\n",
       "    }\n",
       "\n",
       "    .dataframe thead th {\n",
       "        text-align: right;\n",
       "    }\n",
       "</style>\n",
       "<table border=\"1\" class=\"dataframe\">\n",
       "  <thead>\n",
       "    <tr style=\"text-align: right;\">\n",
       "      <th></th>\n",
       "      <th>time</th>\n",
       "      <th>id</th>\n",
       "      <th>cpu</th>\n",
       "      <th>mem_usage</th>\n",
       "      <th>mem_limit</th>\n",
       "    </tr>\n",
       "  </thead>\n",
       "  <tbody>\n",
       "    <tr>\n",
       "      <th>0</th>\n",
       "      <td>2020-05-07_23:15:45:1588873545</td>\n",
       "      <td>6180676c8037</td>\n",
       "      <td>0.00</td>\n",
       "      <td>1.375MiB</td>\n",
       "      <td>7.694GiB</td>\n",
       "    </tr>\n",
       "    <tr>\n",
       "      <th>1</th>\n",
       "      <td>2020-05-07_23:15:45:1588873545</td>\n",
       "      <td>dc3db27d6526</td>\n",
       "      <td>0.02</td>\n",
       "      <td>1.867MiB</td>\n",
       "      <td>7.694GiB</td>\n",
       "    </tr>\n",
       "    <tr>\n",
       "      <th>2</th>\n",
       "      <td>2020-05-07_23:16:37:1588873597</td>\n",
       "      <td>6180676c8037</td>\n",
       "      <td>0.00</td>\n",
       "      <td>1.375MiB</td>\n",
       "      <td>7.694GiB</td>\n",
       "    </tr>\n",
       "    <tr>\n",
       "      <th>3</th>\n",
       "      <td>2020-05-07_23:16:37:1588873597</td>\n",
       "      <td>dc3db27d6526</td>\n",
       "      <td>0.01</td>\n",
       "      <td>1.867MiB</td>\n",
       "      <td>7.694GiB</td>\n",
       "    </tr>\n",
       "    <tr>\n",
       "      <th>4</th>\n",
       "      <td>2020-05-07_23:16:37:1588873597</td>\n",
       "      <td>fa014efda500</td>\n",
       "      <td>0.00</td>\n",
       "      <td>1.258MiB</td>\n",
       "      <td>7.694GiB</td>\n",
       "    </tr>\n",
       "    <tr>\n",
       "      <th>5</th>\n",
       "      <td>2020-05-07_23:42:18:1588875138</td>\n",
       "      <td>6180676c8037</td>\n",
       "      <td>0.00</td>\n",
       "      <td>1.375MiB</td>\n",
       "      <td>7.694GiB</td>\n",
       "    </tr>\n",
       "    <tr>\n",
       "      <th>6</th>\n",
       "      <td>2020-05-07_23:42:18:1588875138</td>\n",
       "      <td>dc3db27d6526</td>\n",
       "      <td>0.02</td>\n",
       "      <td>1.867MiB</td>\n",
       "      <td>7.694GiB</td>\n",
       "    </tr>\n",
       "    <tr>\n",
       "      <th>7</th>\n",
       "      <td>2020-05-07_23:42:18:1588875138</td>\n",
       "      <td>fa014efda500</td>\n",
       "      <td>0.00</td>\n",
       "      <td>1.258MiB</td>\n",
       "      <td>7.694GiB</td>\n",
       "    </tr>\n",
       "  </tbody>\n",
       "</table>\n",
       "</div>"
      ],
      "text/plain": [
       "                             time            id   cpu mem_usage mem_limit\n",
       "0  2020-05-07_23:15:45:1588873545  6180676c8037  0.00  1.375MiB  7.694GiB\n",
       "1  2020-05-07_23:15:45:1588873545  dc3db27d6526  0.02  1.867MiB  7.694GiB\n",
       "2  2020-05-07_23:16:37:1588873597  6180676c8037  0.00  1.375MiB  7.694GiB\n",
       "3  2020-05-07_23:16:37:1588873597  dc3db27d6526  0.01  1.867MiB  7.694GiB\n",
       "4  2020-05-07_23:16:37:1588873597  fa014efda500  0.00  1.258MiB  7.694GiB\n",
       "5  2020-05-07_23:42:18:1588875138  6180676c8037  0.00  1.375MiB  7.694GiB\n",
       "6  2020-05-07_23:42:18:1588875138  dc3db27d6526  0.02  1.867MiB  7.694GiB\n",
       "7  2020-05-07_23:42:18:1588875138  fa014efda500  0.00  1.258MiB  7.694GiB"
      ]
     },
     "execution_count": 3,
     "metadata": {},
     "output_type": "execute_result"
    }
   ],
   "source": [
    "df=pd.read_csv('dockerres.csv',names=columns,header=None)\n",
    "df"
   ]
  },
  {
   "cell_type": "code",
   "execution_count": 5,
   "metadata": {},
   "outputs": [
    {
     "data": {
      "image/png": "[encoded data removed]",
      "text/plain": [
       "<Figure size 432x288 with 1 Axes>"
      ]
     },
     "metadata": {
      "needs_background": "light"
     },
     "output_type": "display_data"
    }
   ],
   "source": [
    "import matplotlib.pyplot as plt\n",
    "plt.scatter(df.id,df.cpu)\n",
    "plt.xlabel(\"Container ID\")\n",
    "plt.ylabel(\"CPU Consumption in Percentage\")\n",
    "plt.show()"
   ]
  },
  {
   "cell_type": "code",
   "execution_count": 8,
   "metadata": {},
   "outputs": [
    {
     "data": {
      "text/plain": [
       "0    885b17a52c9d\n",
       "1    4c5d9947b5b5\n",
       "Name: id, dtype: object"
      ]
     },
     "execution_count": 8,
     "metadata": {},
     "output_type": "execute_result"
    }
   ],
   "source": []
  },
  {
   "cell_type": "code",
   "execution_count": null,
   "metadata": {},
   "outputs": [],
   "source": []
  }
 ],
 "metadata": {
  "kernelspec": {
   "display_name": "Python 3",
   "language": "python",
   "name": "python3"
  },
  "language_info": {
   "codemirror_mode": {
    "name": "ipython",
    "version": 3
   },
   "file_extension": ".py",
   "mimetype": "text/x-python",
   "name": "python",
   "nbconvert_exporter": "python",
   "pygments_lexer": "ipython3",
   "version": "3.6.9"
  }
 },
 "nbformat": 4,
 "nbformat_minor": 4
}
